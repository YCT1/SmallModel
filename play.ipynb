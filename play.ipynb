{
 "cells": [
  {
   "cell_type": "code",
   "execution_count": 15,
   "metadata": {},
   "outputs": [],
   "source": [
    "import torch\n",
    "from torch.nn import Linear,Sigmoid, L1Loss\n",
    "from torch.utils.data import DataLoader, Dataset\n",
    "import numpy as np"
   ]
  },
  {
   "cell_type": "code",
   "execution_count": 16,
   "metadata": {},
   "outputs": [],
   "source": [
    "class MyDataset(Dataset):\n",
    "    def __init__(self, source_data, target_data) -> None:\n",
    "        super(MyDataset,self).__init__()\n",
    "        assert source_data.shape[0] == target_data.shape[0]\n",
    "        self.x = source_data\n",
    "        self.y = target_data\n",
    "    \n",
    "    def __len__(self):\n",
    "        return self.y.shape[0]\n",
    "    \n",
    "    def __getitem__(self, index):\n",
    "        return self.x[index], self.y[index]\n"
   ]
  },
  {
   "cell_type": "code",
   "execution_count": 18,
   "metadata": {},
   "outputs": [],
   "source": [
    "source_data = np.random.normal(0,0.5,(100,100))\n",
    "target_data = np.random.normal(0,0.5,(100,200))\n",
    "\n",
    "trainData = MyDataset(source_data,target_data)\n",
    "\n",
    "\n",
    "train_dataloader = DataLoader(trainData, batch_size=10)"
   ]
  },
  {
   "cell_type": "code",
   "execution_count": 23,
   "metadata": {},
   "outputs": [
    {
     "name": "stdout",
     "output_type": "stream",
     "text": [
      "torch.Size([10, 100])\n",
      "torch.Size([10, 200])\n",
      "torch.Size([10, 100])\n",
      "torch.Size([10, 200])\n",
      "torch.Size([10, 100])\n",
      "torch.Size([10, 200])\n",
      "torch.Size([10, 100])\n",
      "torch.Size([10, 200])\n",
      "torch.Size([10, 100])\n",
      "torch.Size([10, 200])\n",
      "torch.Size([10, 100])\n",
      "torch.Size([10, 200])\n",
      "torch.Size([10, 100])\n",
      "torch.Size([10, 200])\n",
      "torch.Size([10, 100])\n",
      "torch.Size([10, 200])\n",
      "torch.Size([10, 100])\n",
      "torch.Size([10, 200])\n",
      "torch.Size([10, 100])\n",
      "torch.Size([10, 200])\n"
     ]
    }
   ],
   "source": [
    "for batch, (X, y) in enumerate(train_dataloader):\n",
    "\n",
    "    pass"
   ]
  },
  {
   "cell_type": "code",
   "execution_count": 31,
   "metadata": {},
   "outputs": [],
   "source": [
    "source_ood = np.random.normal(12,0.5,(500,35))\n",
    "source = np.random.normal(0,0.5,(100,35))\n",
    "source_all = np.concatenate((source,source_ood))"
   ]
  },
  {
   "cell_type": "code",
   "execution_count": 76,
   "metadata": {},
   "outputs": [],
   "source": [
    "from sklearn.model_selection import KFold\n",
    "data_index = np.arange(0,source.shape[0])\n",
    "\n",
    "source = np.random.normal(0,0.5, (500,35))\n",
    "target = np.random.normal(0,0.5, (500,160))\n",
    "\n",
    "source_ood = np.random.normal(10,0.5,(500,35))\n",
    "target_ood = np.random.normal(10,0.5,(500,160))\n",
    "\n",
    "source_all = np.concatenate((source,source_ood))\n",
    "target_all = np.concatenate((target,target_ood))\n",
    "\n",
    "\n",
    "#np.random.choice(source,15, replace=False)\n",
    "\n",
    "normal_index = np.random.choice(data_index,400,replace=False)\n",
    "h1_index, h2_index = normal_index[0:200],normal_index[200:400]\n",
    "\n",
    "h1_source,h1_target = source[h1_index], target[h1_index]\n",
    "h2_source,h2_target = source[h2_index], target[h2_index]\n",
    "\n",
    "ood_index = np.random.choice(data_index,200,replace=False)\n",
    "h3_source, h3_target = source_ood[ood_index], target_ood[ood_index]\n",
    "\n",
    "all_data_index = np.arange(0,source_all.shape[0])\n",
    "testing_index = np.random.choice(all_data_index,100,replace=False)\n",
    "testing_source, testing_target = source_all[testing_index], target_all[testing_index]\n",
    "\n"
   ]
  },
  {
   "cell_type": "code",
   "execution_count": 81,
   "metadata": {},
   "outputs": [
    {
     "data": {
      "image/png": "[encoded data removed]",
      "text/plain": [
       "<Figure size 432x288 with 1 Axes>"
      ]
     },
     "metadata": {
      "needs_background": "light"
     },
     "output_type": "display_data"
    }
   ],
   "source": [
    "import matplotlib.pyplot as plt\n",
    "\n",
    "plt.hist(h1_source.flatten(), bins=100)\n",
    "plt.show()"
   ]
  }
 ],
 "metadata": {
  "interpreter": {
   "hash": "81b1c529e671fb95c1cf3224c1e633379ec2f7fbcde959a8503a74bc1b685270"
  },
  "kernelspec": {
   "display_name": "Python 3.8.2 ('MYENV')",
   "language": "python",
   "name": "python3"
  },
  "language_info": {
   "codemirror_mode": {
    "name": "ipython",
    "version": 3
   },
   "file_extension": ".py",
   "mimetype": "text/x-python",
   "name": "python",
   "nbconvert_exporter": "python",
   "pygments_lexer": "ipython3",
   "version": "3.8.2"
  },
  "orig_nbformat": 4
 },
 "nbformat": 4,
 "nbformat_minor": 2
}
