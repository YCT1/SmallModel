{
 "cells": [
  {
   "cell_type": "code",
   "execution_count": 28,
   "metadata": {},
   "outputs": [],
   "source": [
    "import numpy as np\n",
    "from sklearn.decomposition import PCA\n",
    "import matplotlib.pyplot as plt\n",
    "from sklearn.datasets import make_blobs"
   ]
  },
  {
   "cell_type": "code",
   "execution_count": 2,
   "metadata": {},
   "outputs": [],
   "source": [
    "source = np.random.normal(0,0.5, (500,35)).astype(np.float32)\n",
    "target = np.random.normal(0,0.5, (500,160)).astype(np.float32)\n",
    "\n",
    "source_ood = np.random.normal(10,0.5,(500,35)).astype(np.float32)\n",
    "target_ood = np.random.normal(10,0.5,(500,160)).astype(np.float32)\n",
    "\n",
    "source_all = np.concatenate((source,source_ood))\n",
    "target_all = np.concatenate((target,target_ood))\n",
    "\n",
    "# Prepara the data\n",
    "data_index = np.arange(0,source.shape[0])\n",
    "\n",
    "normal_index = np.random.choice(data_index,400,replace=False)\n",
    "h1_index, h2_index = normal_index[0:200],normal_index[200:400]\n",
    "\n",
    "h1_source,h1_target = source[h1_index], target[h1_index]\n",
    "h2_source,h2_target = source[h2_index], target[h2_index]\n",
    "\n",
    "ood_index = np.random.choice(data_index,200,replace=False)\n",
    "h3_source, h3_target = source_ood[ood_index], target_ood[ood_index]\n",
    "\n",
    "all_data_index = np.arange(0,source_all.shape[0])\n",
    "testing_index = np.random.choice(all_data_index,100,replace=False)\n",
    "testing_source, testing_target = source_all[testing_index], target_all[testing_index]"
   ]
  },
  {
   "cell_type": "code",
   "execution_count": 8,
   "metadata": {},
   "outputs": [
    {
     "data": {
      "text/plain": [
       "PCA(n_components=2)"
      ]
     },
     "execution_count": 8,
     "metadata": {},
     "output_type": "execute_result"
    }
   ],
   "source": [
    "pca = PCA(n_components=2)\n",
    "\n",
    "source_data = np.concatenate([h1_source,h2_source,h3_source,testing_source])\n",
    "\n",
    "pca.fit(source_data)"
   ]
  },
  {
   "cell_type": "code",
   "execution_count": 27,
   "metadata": {},
   "outputs": [
    {
     "data": {
      "image/png": "[encoded data removed]",
      "text/plain": [
       "<Figure size 432x288 with 1 Axes>"
      ]
     },
     "metadata": {
      "needs_background": "light"
     },
     "output_type": "display_data"
    },
    {
     "data": {
      "text/plain": [
       "<Figure size 72x2232 with 0 Axes>"
      ]
     },
     "metadata": {},
     "output_type": "display_data"
    }
   ],
   "source": [
    "\n",
    "def scatterPlot(h1_source):\n",
    "    h1_source_t = pca.transform(h1_source)\n",
    "    plt.scatter(h1_source_t.T[0],h1_source_t.T[1])\n",
    "\n",
    "scatterPlot(h1_source)\n",
    "scatterPlot(h2_source)\n",
    "scatterPlot(h3_source)\n",
    "scatterPlot(testing_source)\n",
    "fig = plt.figure(figsize=(1,31))\n",
    "fig.show()"
   ]
  },
  {
   "cell_type": "code",
   "execution_count": 29,
   "metadata": {},
   "outputs": [],
   "source": [
    "X, y = make_blobs(n_samples=1000, centers=2, n_features=35,random_state=0, cluster_std=13)"
   ]
  },
  {
   "cell_type": "code",
   "execution_count": 33,
   "metadata": {},
   "outputs": [
    {
     "data": {
      "text/plain": [
       "(array([  0,   3,   4,   5,   7,   8,  12,  13,  15,  16,  17,  18,  22,\n",
       "         26,  30,  32,  34,  36,  37,  38,  39,  40,  41,  43,  45,  47,\n",
       "         48,  49,  50,  52,  53,  54,  55,  59,  61,  63,  64,  67,  70,\n",
       "         73,  76,  77,  81,  82,  83,  84,  85,  87,  89,  90,  91,  98,\n",
       "        106, 107, 111, 112, 113, 116, 117, 118, 120, 124, 126, 128, 129,\n",
       "        130, 131, 132, 133, 138, 141, 142, 145, 146, 147, 148, 150, 151,\n",
       "        152, 153, 154, 157, 159, 160, 161, 162, 163, 164, 165, 167, 168,\n",
       "        169, 171, 172, 173, 174, 175, 179, 181, 182, 183, 184, 185, 186,\n",
       "        188, 195, 196, 199, 202, 204, 208, 210, 211, 212, 214, 215, 217,\n",
       "        226, 228, 234, 236, 237, 238, 243, 244, 246, 247, 249, 251, 252,\n",
       "        254, 255, 262, 265, 266, 267, 269, 270, 271, 272, 273, 274, 275,\n",
       "        277, 280, 282, 283, 284, 286, 287, 288, 289, 290, 291, 294, 296,\n",
       "        298, 299, 300, 301, 303, 304, 305, 306, 312, 314, 315, 316, 317,\n",
       "        320, 321, 322, 323, 324, 327, 329, 331, 335, 340, 341, 342, 343,\n",
       "        346, 348, 349, 352, 354, 356, 357, 359, 360, 361, 363, 364, 367,\n",
       "        368, 369, 372, 373, 375, 376, 377, 378, 381, 382, 386, 390, 392,\n",
       "        393, 395, 397, 401, 405, 406, 407, 409, 410, 411, 413, 415, 416,\n",
       "        419, 420, 425, 430, 431, 433, 435, 436, 437, 439, 442, 445, 446,\n",
       "        448, 451, 452, 457, 458, 459, 462, 466, 468, 470, 472, 473, 478,\n",
       "        480, 481, 483, 484, 486, 490, 491, 492, 495, 500, 501, 502, 504,\n",
       "        507, 508, 509, 514, 517, 523, 525, 526, 528, 529, 532, 533, 536,\n",
       "        537, 538, 539, 541, 554, 556, 557, 563, 564, 566, 568, 570, 571,\n",
       "        574, 580, 583, 586, 589, 591, 593, 594, 595, 596, 597, 601, 602,\n",
       "        603, 605, 607, 608, 610, 612, 613, 615, 616, 617, 619, 620, 621,\n",
       "        622, 623, 624, 625, 626, 628, 631, 633, 639, 640, 641, 645, 648,\n",
       "        649, 650, 658, 660, 661, 664, 669, 670, 672, 673, 674, 675, 680,\n",
       "        682, 683, 684, 687, 691, 692, 694, 697, 698, 700, 701, 702, 703,\n",
       "        705, 706, 708, 710, 711, 713, 715, 716, 717, 718, 724, 728, 730,\n",
       "        733, 736, 737, 738, 739, 741, 745, 747, 748, 750, 751, 753, 757,\n",
       "        758, 759, 762, 763, 764, 765, 766, 767, 768, 769, 770, 772, 774,\n",
       "        775, 777, 780, 782, 784, 786, 787, 788, 789, 790, 791, 792, 793,\n",
       "        796, 802, 803, 804, 805, 806, 807, 808, 812, 818, 819, 821, 822,\n",
       "        823, 826, 831, 832, 833, 834, 837, 838, 840, 842, 843, 846, 848,\n",
       "        850, 852, 858, 859, 860, 861, 862, 866, 867, 869, 872, 875, 876,\n",
       "        877, 879, 880, 881, 884, 885, 886, 887, 888, 889, 892, 893, 894,\n",
       "        897, 901, 903, 906, 907, 916, 917, 919, 921, 926, 928, 931, 935,\n",
       "        936, 940, 941, 944, 945, 947, 951, 953, 954, 955, 956, 959, 961,\n",
       "        962, 966, 969, 972, 973, 974, 975, 976, 981, 984, 986, 989, 990,\n",
       "        992, 994, 995, 996, 997, 998]),)"
      ]
     },
     "execution_count": 33,
     "metadata": {},
     "output_type": "execute_result"
    }
   ],
   "source": [
    "np.where(y == 0)"
   ]
  }
 ],
 "metadata": {
  "interpreter": {
   "hash": "81b1c529e671fb95c1cf3224c1e633379ec2f7fbcde959a8503a74bc1b685270"
  },
  "kernelspec": {
   "display_name": "Python 3.8.2 ('MYENV')",
   "language": "python",
   "name": "python3"
  },
  "language_info": {
   "codemirror_mode": {
    "name": "ipython",
    "version": 3
   },
   "file_extension": ".py",
   "mimetype": "text/x-python",
   "name": "python",
   "nbconvert_exporter": "python",
   "pygments_lexer": "ipython3",
   "version": "3.8.2"
  },
  "orig_nbformat": 4
 },
 "nbformat": 4,
 "nbformat_minor": 2
}
